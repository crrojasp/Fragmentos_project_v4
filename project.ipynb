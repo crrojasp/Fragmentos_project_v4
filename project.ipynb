{
 "cells": [
  {
   "cell_type": "markdown",
   "metadata": {},
   "source": [
    "<!-- Encabezado principal -->\n",
    "<h1 className=\"\">Proyecto Criptografía</h1>\n",
    "\n",
    "<!-- Subtítulo más pequeño pero mayor que la letra normal -->\n",
    "<h3 className=\"\">Elliptic Curve</h3>\n",
    "\n",
    "<!-- Resumen del documento -->\n",
    "<p className=\"\">\n",
    "    En este documento, lo que intento explorar es: Cómo se pueden generar direcciones de criptomonedas utilizando diferentes curvas elípticas que ya están en uso en el mercado de criptomonedas paso a paso para que se comprenda.\n",
    "    A través de este proceso paso a paso, busco destacar la criptografía en las transacciones seguras y cómo se controla la creación de nuevas unidades de criptomonedas.\n",
    "</p>\n",
    "\n",
    "<!-- Contexto -->\n",
    "<h4 className=\"\">Contexto</h4>\n",
    "<p className=\"\">\n",
    "    Las criptomonedas utilizan criptografía avanzada para asegurar las transacciones y controlar la creación de nuevas unidades. Generar direcciones de criptomonedas de manera segura \n",
    "    puede ser complejo para usuarios inexpertos. En este documento muestra cómo 5 diferentes curvas, ya usadas en el mercado cripto, son aplicadas paso a paso.\n",
    "</p>\n",
    "\n",
    "<!-- Objetivo -->\n",
    "<h4 className=\"\">Objetivo</h4>\n",
    "<p className=\"\">\n",
    "    A través de este documento Jupyter, espero demostrar cómo se puede convertir un punto pseudoaleatorio generado en una curva elíptica en una dirección utilizable en el mundo \n",
    "    de las criptofinanzas.\n",
    "</p>\n",
    "\n",
    "<!-- Características -->\n",
    "<h4 className=\"\">Características</h4>\n",
    "<ul className=\"\">\n",
    "    <li>Se usaron cinco curvas elípticas.</li>\n",
    "    <li>Se aplicaron dos criptomonedas: Bitcoin y Ethereum.</li>\n",
    "</ul>"
   ]
  },
  {
   "cell_type": "markdown",
   "metadata": {},
   "source": [
    "<span>0. Instalación librerías usadas<span/>"
   ]
  },
  {
   "cell_type": "code",
   "execution_count": 1,
   "metadata": {},
   "outputs": [
    {
     "name": "stdout",
     "output_type": "stream",
     "text": [
      "Requirement already satisfied: ecdsa in c:\\users\\aleja\\appdata\\local\\programs\\python\\python312\\lib\\site-packages (0.19.0)\n",
      "Requirement already satisfied: six>=1.9.0 in c:\\users\\aleja\\appdata\\local\\programs\\python\\python312\\lib\\site-packages (from ecdsa) (1.16.0)\n",
      "Note: you may need to restart the kernel to use updated packages.\n"
     ]
    },
    {
     "name": "stderr",
     "output_type": "stream",
     "text": [
      "\n",
      "[notice] A new release of pip is available: 24.0 -> 24.2\n",
      "[notice] To update, run: python.exe -m pip install --upgrade pip\n"
     ]
    },
    {
     "name": "stdout",
     "output_type": "stream",
     "text": [
      "Requirement already satisfied: matplotlib in c:\\users\\aleja\\appdata\\local\\programs\\python\\python312\\lib\\site-packages (3.9.2)\n",
      "Requirement already satisfied: contourpy>=1.0.1 in c:\\users\\aleja\\appdata\\local\\programs\\python\\python312\\lib\\site-packages (from matplotlib) (1.3.0)\n",
      "Requirement already satisfied: cycler>=0.10 in c:\\users\\aleja\\appdata\\local\\programs\\python\\python312\\lib\\site-packages (from matplotlib) (0.12.1)\n",
      "Requirement already satisfied: fonttools>=4.22.0 in c:\\users\\aleja\\appdata\\local\\programs\\python\\python312\\lib\\site-packages (from matplotlib) (4.53.1)\n",
      "Requirement already satisfied: kiwisolver>=1.3.1 in c:\\users\\aleja\\appdata\\local\\programs\\python\\python312\\lib\\site-packages (from matplotlib) (1.4.5)\n",
      "Requirement already satisfied: numpy>=1.23 in c:\\users\\aleja\\appdata\\local\\programs\\python\\python312\\lib\\site-packages (from matplotlib) (1.26.4)\n",
      "Requirement already satisfied: packaging>=20.0 in c:\\users\\aleja\\appdata\\local\\programs\\python\\python312\\lib\\site-packages (from matplotlib) (23.2)\n",
      "Requirement already satisfied: pillow>=8 in c:\\users\\aleja\\appdata\\local\\programs\\python\\python312\\lib\\site-packages (from matplotlib) (10.4.0)\n",
      "Requirement already satisfied: pyparsing>=2.3.1 in c:\\users\\aleja\\appdata\\local\\programs\\python\\python312\\lib\\site-packages (from matplotlib) (3.1.4)\n",
      "Requirement already satisfied: python-dateutil>=2.7 in c:\\users\\aleja\\appdata\\local\\programs\\python\\python312\\lib\\site-packages (from matplotlib) (2.9.0.post0)\n",
      "Requirement already satisfied: six>=1.5 in c:\\users\\aleja\\appdata\\local\\programs\\python\\python312\\lib\\site-packages (from python-dateutil>=2.7->matplotlib) (1.16.0)\n",
      "Note: you may need to restart the kernel to use updated packages.\n"
     ]
    },
    {
     "name": "stderr",
     "output_type": "stream",
     "text": [
      "\n",
      "[notice] A new release of pip is available: 24.0 -> 24.2\n",
      "[notice] To update, run: python.exe -m pip install --upgrade pip\n"
     ]
    },
    {
     "name": "stdout",
     "output_type": "stream",
     "text": [
      "Requirement already satisfied: base58 in c:\\users\\aleja\\appdata\\local\\programs\\python\\python312\\lib\\site-packages (2.1.1)Note: you may need to restart the kernel to use updated packages.\n",
      "\n"
     ]
    },
    {
     "name": "stderr",
     "output_type": "stream",
     "text": [
      "\n",
      "[notice] A new release of pip is available: 24.0 -> 24.2\n",
      "[notice] To update, run: python.exe -m pip install --upgrade pip\n"
     ]
    },
    {
     "name": "stdout",
     "output_type": "stream",
     "text": [
      "Requirement already satisfied: eth-keys in c:\\users\\aleja\\appdata\\local\\programs\\python\\python312\\lib\\site-packages (0.5.1)\n",
      "Requirement already satisfied: eth-utils>=2 in c:\\users\\aleja\\appdata\\local\\programs\\python\\python312\\lib\\site-packages (from eth-keys) (5.0.0)\n",
      "Requirement already satisfied: eth-typing>=3 in c:\\users\\aleja\\appdata\\local\\programs\\python\\python312\\lib\\site-packages (from eth-keys) (5.0.0)\n",
      "Requirement already satisfied: typing-extensions>=4.5.0 in c:\\users\\aleja\\appdata\\local\\programs\\python\\python312\\lib\\site-packages (from eth-typing>=3->eth-keys) (4.12.2)\n",
      "Requirement already satisfied: eth-hash>=0.3.1 in c:\\users\\aleja\\appdata\\local\\programs\\python\\python312\\lib\\site-packages (from eth-utils>=2->eth-keys) (0.7.0)\n",
      "Requirement already satisfied: hexbytes>=1.0.0 in c:\\users\\aleja\\appdata\\local\\programs\\python\\python312\\lib\\site-packages (from eth-utils>=2->eth-keys) (1.2.1)\n",
      "Requirement already satisfied: cytoolz>=0.10.1 in c:\\users\\aleja\\appdata\\local\\programs\\python\\python312\\lib\\site-packages (from eth-utils>=2->eth-keys) (0.12.3)\n",
      "Requirement already satisfied: toolz>=0.8.0 in c:\\users\\aleja\\appdata\\local\\programs\\python\\python312\\lib\\site-packages (from cytoolz>=0.10.1->eth-utils>=2->eth-keys) (0.12.1)\n",
      "Note: you may need to restart the kernel to use updated packages.\n"
     ]
    },
    {
     "name": "stderr",
     "output_type": "stream",
     "text": [
      "\n",
      "[notice] A new release of pip is available: 24.0 -> 24.2\n",
      "[notice] To update, run: python.exe -m pip install --upgrade pip\n"
     ]
    },
    {
     "name": "stdout",
     "output_type": "stream",
     "text": [
      "Requirement already satisfied: eth-hash[pycryptodome] in c:\\users\\aleja\\appdata\\local\\programs\\python\\python312\\lib\\site-packages (0.7.0)Note: you may need to restart the kernel to use updated packages.\n",
      "\n",
      "Requirement already satisfied: pycryptodome<4,>=3.6.6 in c:\\users\\aleja\\appdata\\local\\programs\\python\\python312\\lib\\site-packages (from eth-hash[pycryptodome]) (3.20.0)\n"
     ]
    },
    {
     "name": "stderr",
     "output_type": "stream",
     "text": [
      "\n",
      "[notice] A new release of pip is available: 24.0 -> 24.2\n",
      "[notice] To update, run: python.exe -m pip install --upgrade pip\n"
     ]
    },
    {
     "name": "stdout",
     "output_type": "stream",
     "text": [
      "Requirement already satisfied: eth-hash[pysha3] in c:\\users\\aleja\\appdata\\local\\programs\\python\\python312\\lib\\site-packages (0.7.0)\n",
      "Requirement already satisfied: safe-pysha3>=1.0.0 in c:\\users\\aleja\\appdata\\local\\programs\\python\\python312\\lib\\site-packages (from eth-hash[pysha3]) (1.0.4)\n",
      "Note: you may need to restart the kernel to use updated packages.\n"
     ]
    },
    {
     "name": "stderr",
     "output_type": "stream",
     "text": [
      "\n",
      "[notice] A new release of pip is available: 24.0 -> 24.2\n",
      "[notice] To update, run: python.exe -m pip install --upgrade pip\n"
     ]
    }
   ],
   "source": [
    "%pip install ecdsa       \n",
    "%pip install matplotlib \n",
    "%pip install base58\n",
    "%pip install eth-keys\n",
    "%pip install eth-hash[pycryptodome]\n",
    "%pip install eth-hash[pysha3]\n",
    "\n"
   ]
  },
  {
   "cell_type": "markdown",
   "metadata": {},
   "source": [
    "<!-- Explicación de las librerías utilizadas -->\n",
    "<h4 className=\"\">Librerías Utilizadas</h4>\n",
    "\n",
    "<p className=\"\">\n",
    "    Para llevar a cabo el proceso de generación de direcciones de criptomonedas utilizando curvas elípticas, utilicé las siguientes librerías que a continuación se nombran, se describe la \n",
    "    función de cada una y por qué son adecuadas para este proyecto:\n",
    "</p>\n",
    "\n",
    "<ul className=\"\">\n",
    "    <li>\n",
    "        <b>ecdsa:</b> Esta librería es fundamental para implementar algoritmos de firma digital basados en curvas elípticas. Permite la generación y verificación de claves públicas y \n",
    "        privadas, siendo ideal para este proyecto que requiere la manipulación de curvas elípticas para la generación de direcciones de criptomonedas.\n",
    "    </li>\n",
    "    <li>\n",
    "        <b>matplotlib:</b> Lo utilicé para graficar la curva elíptica y visualizar los puntos generados. Esta librería es adecuada debido a su capacidad para crear gráficos \n",
    "        personalizados y de alta calidad, lo que facilita la comprensión visual del proceso criptográfico.\n",
    "    </li>\n",
    "    <li>\n",
    "        <b>base58:</b> Esta librería es necesaria para codificar direcciones de criptomonedas, especialmente Bitcoin, en un formato legible por humanos. Base58 es utilizado en \n",
    "        criptomonedas para reducir errores en la copia y escritura de direcciones, siendo esencial para nuestro objetivo de generar direcciones utilizables.\n",
    "    </li>\n",
    "    <li>\n",
    "        <b>eth-keys:</b> Esta librería se utilizó para manejar las claves públicas y privadas en Ethereum. Específicamente, permite convertir claves públicas en direcciones Ethereum.\n",
    "    </li>\n",
    "    <li>\n",
    "        <b>eth-hash[pycryptodome]:</b> Esta librería proporciona funciones de hash, como Keccak, necesarias para calcular las direcciones Ethereum a partir de claves públicas. No es usada directamente pero funciones dentro de la librería eth-keys necesarias acá necesitan de esta y no la trae incorporada directamente\n",
    "    </li>\n",
    "    <li>\n",
    "        <b>eth-hash[pysha3]:</b> Similar a `pycryptodome`, esta variante se utiliza para implementar el algoritmo de hash Keccak. Es adecuada para asegurar la flexibilidad y \n",
    "        compatibilidad en entornos donde se requiere hashing criptográfico, proporcionando otra opción interna usable que hace que no caiga en excepciones de generaciones de dirección Ethereum.\n",
    "    </li>\n",
    "</ul>"
   ]
  },
  {
   "cell_type": "markdown",
   "metadata": {},
   "source": [
    "Importación de librerías necesarias"
   ]
  },
  {
   "cell_type": "code",
   "execution_count": 2,
   "metadata": {},
   "outputs": [],
   "source": [
    "# Importación de librerías usadas\n",
    "import numpy as np # type: ignore\n",
    "import ecdsa  # type: ignore\n",
    "import matplotlib.pyplot as plt # type: ignore\n",
    "import hashlib\n",
    "import base58  # type: ignore\n",
    "from eth_keys import keys   # type: ignore\n",
    "from eth_utils import to_checksum_address   # type: ignore"
   ]
  },
  {
   "cell_type": "markdown",
   "metadata": {},
   "source": [
    "<!-- Explicación de las importaciones utilizadas -->\n",
    "<h4 className=\"\">Importaciones Utilizadas</h4>\n",
    "\n",
    "<p className=\"\">\n",
    "    A continuación, se detallan las importaciones que realmente se utilizaron en el código y su relevancia dentro del proyecto de generación de direcciones de criptomonedas utilizando criptografía de curvas elípticas:\n",
    "</p>\n",
    "\n",
    "<ul className=\"\">\n",
    "    <li>\n",
    "        <b>import numpy as np:</b> NumPy es una librería fundamental para la manipulación de matrices y operaciones matemáticas en Python. En este proyecto, se utilizó para \n",
    "        manejar los cálculos relacionados con las claves y puntos generados en las curvas elípticas, proporcionando una base eficiente para operaciones matemáticas complejas.\n",
    "    </li>\n",
    "    <li>\n",
    "        <b>import ecdsa:</b> La librería `ecdsa` es esencial para trabajar con criptografía de curvas elípticas. Permite generar y verificar claves públicas y privadas, \n",
    "        y se utilizó para crear claves criptográficas basadas en las curvas elípticas seleccionadas, que luego se convirtieron en direcciones de criptomonedas.\n",
    "    </li>\n",
    "    <li>\n",
    "        <b>import matplotlib.pyplot as plt:</b> `matplotlib.pyplot` es la herramienta estándar para crear gráficos en Python. Fue utilizada para graficar las curvas elípticas y \n",
    "        visualizar los puntos generados, lo que ayuda a comprender el proceso criptográfico de manera visual.\n",
    "    </li>\n",
    "    <li>\n",
    "        <b>import hashlib:</b> La librería `hashlib` proporciona funciones de hash criptográficas, como SHA-256, necesarias para generar identificadores únicos y seguros en \n",
    "        criptomonedas. En este proyecto, se utilizó para calcular hashes que forman parte del proceso de generación de direcciones de criptomonedas, especialmente en Bitcoin.\n",
    "    </li>\n",
    "    <li>\n",
    "        <b>import base58:</b> Esta librería se utilizó para codificar direcciones de Bitcoin en formato base58. El uso de base58 es estándar en Bitcoin, ya que elimina caracteres \n",
    "        que podrían llevar a errores tipográficos, facilitando la transferencia segura de direcciones.\n",
    "    </li>\n",
    "    <li>\n",
    "        <b>from eth_keys import keys:</b> `eth_keys` se utilizó para manejar claves públicas y privadas en Ethereum. Permite convertir claves públicas en direcciones Ethereum, \n",
    "        lo cual es crucial para la generación de direcciones válidas en la red Ethereum.\n",
    "    </li>\n",
    "    <li>\n",
    "        <b>from eth_utils import to_checksum_address:</b> `eth_utils` proporciona la función `to_checksum_address`, que se utilizó para convertir direcciones Ethereum en su \n",
    "        formato de checksum. Este formato asegura que las direcciones se validen correctamente, reduciendo la posibilidad de errores en transacciones.\n",
    "    </li>\n",
    "</ul>"
   ]
  },
  {
   "cell_type": "markdown",
   "metadata": {},
   "source": [
    "Generación claves"
   ]
  },
  {
   "cell_type": "code",
   "execution_count": 3,
   "metadata": {},
   "outputs": [],
   "source": [
    "# Definición de curvas\n",
    "secp256k1 = ecdsa.SECP256k1\n",
    "secp112r1 = ecdsa.SECP112r1\n",
    "secp112r2 = ecdsa.SECP112r2\n",
    "secp128r1 = ecdsa.SECP128r1\n",
    "secp160r1 = ecdsa.SECP160r1"
   ]
  },
  {
   "cell_type": "markdown",
   "metadata": {},
   "source": [
    "<h2>secp256k1</h2>\n",
    "<p>\n",
    "    <strong>secp256k1</strong> es el tipo de curva elíptica utilizada como curva <a href=\"https://es.bitcoin.it/wiki/ECDSA\">ECDSA</a> en el modelo criptográfico de Bitcoin y viene definida en el documento normativo \n",
    "    <em>Standards for Efficient Cryptography (SEC)</em> (Certicom Research, \n",
    "    <a href=\"http://www.secg.org/collateral/sec2_final.pdf\">http://www.secg.org/collateral/sec2_final.pdf</a>).\n",
    "</p>\n",
    "\n",
    "<p>De acuerdo con la especificación:</p>\n",
    "\n",
    "<h3>Parámetros del dominio de las curvas elípticas</h3>\n",
    "<p>\n",
    "    Los parámetros del dominio de las curvas elípticas sobre <em>F<sub>p</sub></em> asociados con una curva de Koblitz secp256k1 vienen especificados por el sexteto \n",
    "    <em>T = (p, a, b, G, n, h)</em>, en donde el campo finito <em>F<sub>p</sub></em> está definido por:\n",
    "</p>\n",
    "\n",
    "<ul>\n",
    "    <li><strong>p</strong> = FFFFFFFF FFFFFFFF FFFFFFFF FFFFFFFF FFFFFFFF FFFFFFFF FFFFFFFE FFFFFC2F</li>\n",
    "    <li>= 2<sup>256</sup> - 2<sup>32</sup> - 2<sup>9</sup> - 2<sup>8</sup> - 2<sup>7</sup> - 2<sup>6</sup> - 2<sup>4</sup> - 1</li>\n",
    "</ul>\n",
    "\n",
    "<h3>Curva E</h3>\n",
    "<p>\n",
    "    La curva <em>E</em>: <em>y<sup>2</sup> = x<sup>3</sup> + ax + b</em> sobre <em>F<sub>p</sub></em> está definida por:\n",
    "</p>\n",
    "\n",
    "<ul>\n",
    "    <li><strong>a</strong> = 00000000 00000000 00000000 00000000 00000000 00000000 00000000 00000000</li>\n",
    "    <li><strong>b</strong> = 00000000 00000000 00000000 00000000 00000000 00000000 00000000 00000007</li>\n",
    "</ul>\n",
    "\n",
    "<h3>Punto base G</h3>\n",
    "<p>\n",
    "    El punto base <strong>G</strong> en forma comprimida es:\n",
    "</p>\n",
    "<ul>\n",
    "    <li><strong>G</strong> = 02 79BE667E F9DCBBAC 55A06295 CE870B07 029BFCDB 2DCE28D9 59F2815B 16F81798</li>\n",
    "</ul>\n",
    "\n",
    "<p>\n",
    "    Y en forma no comprimida es:\n",
    "</p>\n",
    "<ul>\n",
    "    <li><strong>G</strong> = 04 79BE667E F9DCBBAC 55A06295 CE870B07 029BFCDB 2DCE28D9 59F2815B 16F81798 483ADA77 26A3C465 5DA4FBFC 0E1108A8 FD17B448 A6855419 9C47D08F FB10D4B8</li>\n",
    "</ul>\n",
    "\n",
    "<h3>Orden y cofactor</h3>\n",
    "<p>\n",
    "    Finalmente, el orden <strong>n</strong> de <strong>G</strong> y el cofactor son:\n",
    "</p>\n",
    "\n",
    "<ul>\n",
    "    <li><strong>n</strong> = FFFFFFFF FFFFFFFF FFFFFFFF FFFFFFFE BAAEDCE6 AF48A03B BFD25E8C D0364141</li>\n",
    "    <li><strong>h</strong> = 01</li>\n",
    "</ul>\n",
    "\n",
    "<hr>\n",
    "<p>\n",
    "    <em>Este contenido ha sido extraído de: \n",
    "    <a href=\"https://es.bitcoin.it/wiki/Secp256k1\">https://es.bitcoin.it/wiki/Secp256k1</a></em>\n",
    "</p>"
   ]
  },
  {
   "cell_type": "markdown",
   "metadata": {},
   "source": [
    "<h2>secp112r1</h2>\n",
    "<p>\n",
    "    <strong>secp112r1</strong> es una curva elíptica recomendada por el documento normativo \n",
    "    <em>Standards for Efficient Cryptography (SEC)</em> (Certicom Research, \n",
    "    <a href=\"http://www.secg.org/collateral/sec2_final.pdf\">http://www.secg.org/collateral/sec2_final.pdf</a>).\n",
    "    Es una de las curvas más pequeñas en cuanto a tamaño de clave, lo que la hace adecuada para aplicaciones con restricciones en el uso de memoria y potencia de procesamiento.\n",
    "</p>\n",
    "\n",
    "<p>De acuerdo con la especificación:</p>\n",
    "\n",
    "<h3>Parámetros del dominio de las curvas elípticas</h3>\n",
    "<p>\n",
    "    Los parámetros del dominio de las curvas elípticas sobre <em>F<sub>p</sub></em> asociados con la curva secp112r1 vienen especificados por el sexteto \n",
    "    <em>T = (p, a, b, G, n, h)</em>, en donde el campo finito <em>F<sub>p</sub></em> está definido por:\n",
    "</p>\n",
    "\n",
    "<ul>\n",
    "    <li><strong>p</strong> = DB7C 2ABF 62E3 5E66 80D0 AAD4 987E A0E0 30</li>\n",
    "    <li>= 2<sup>112</sup> - 3</li>\n",
    "</ul>\n",
    "\n",
    "<h3>Curva E</h3>\n",
    "<p>\n",
    "    La curva <em>E</em>: <em>y<sup>2</sup> = x<sup>3</sup> + ax + b</em> sobre <em>F<sub>p</sub></em> está definida por:\n",
    "</p>\n",
    "\n",
    "<ul>\n",
    "    <li><strong>a</strong> = DB7C 2ABF 62E3 5E66 80D0 AAD4 987E A0E0 2E</li>\n",
    "    <li><strong>b</strong> = 659E F8BA 0439 16EE DE89 1170 289B D1E4 16</li>\n",
    "</ul>\n",
    "\n",
    "<h3>Punto base G</h3>\n",
    "<p>\n",
    "    El punto base <strong>G</strong> en forma comprimida es:\n",
    "</p>\n",
    "<ul>\n",
    "    <li><strong>G</strong> = 04 0948 7239 995A 5EE7 6B55 F9C2 F098</li>\n",
    "</ul>\n",
    "\n",
    "<h3>Orden y cofactor</h3>\n",
    "<p>\n",
    "    Finalmente, el orden <strong>n</strong> de <strong>G</strong> y el cofactor son:\n",
    "</p>\n",
    "\n",
    "<ul>\n",
    "    <li><strong>n</strong> = DB7C 2ABF 62E3 5E76 28DF AC65 61C5</li>\n",
    "    <li><strong>h</strong> = 01</li>\n",
    "</ul>\n",
    "\n",
    "<hr>\n",
    "<p>\n",
    "    <em>Información basada en el documento SEC 2: Recommended Elliptic Curve Domain Parameters</em>\n",
    "</p>"
   ]
  },
  {
   "cell_type": "markdown",
   "metadata": {},
   "source": [
    "<h2>secp112r2</h2>\n",
    "<p>\n",
    "    <strong>secp112r2</strong> es una curva elíptica recomendada por el documento normativo \n",
    "    <em>Standards for Efficient Cryptography (SEC)</em> (Certicom Research, \n",
    "    <a href=\"http://www.secg.org/collateral/sec2_final.pdf\">http://www.secg.org/collateral/sec2_final.pdf</a>).\n",
    "    Esta curva es similar a secp112r1 pero con un conjunto diferente de parámetros que ofrecen \n",
    "    propiedades distintas para aplicaciones criptográficas.\n",
    "</p>\n",
    "\n",
    "<p>De acuerdo con la especificación:</p>\n",
    "\n",
    "<h3>Parámetros del dominio de las curvas elípticas</h3>\n",
    "<p>\n",
    "    Los parámetros del dominio de las curvas elípticas sobre <em>F<sub>p</sub></em> asociados con la curva secp112r2 vienen especificados por el sexteto \n",
    "    <em>T = (p, a, b, G, n, h)</em>, en donde el campo finito <em>F<sub>p</sub></em> está definido por:\n",
    "</p>\n",
    "\n",
    "<ul>\n",
    "    <li><strong>p</strong> = DB7C 2ABF 62E3 5E76 28DF AC65 61C5 02A8</li>\n",
    "    <li>= 2<sup>112</sup> - 2<sup>32</sup> - 2<sup>12</sup> - 2<sup>8</sup> - 2<sup>7</sup> - 2<sup>6</sup> - 2<sup>4</sup> - 1</li>\n",
    "</ul>\n",
    "\n",
    "<h3>Curva E</h3>\n",
    "<p>\n",
    "    La curva <em>E</em>: <em>y<sup>2</sup> = x<sup>3</sup> + ax + b</em> sobre <em>F<sub>p</sub></em> está definida por:\n",
    "</p>\n",
    "\n",
    "<ul>\n",
    "    <li><strong>a</strong> = 62E3 5E66 80D0 AAD4 987E A0E0 30 02A8</li>\n",
    "    <li><strong>b</strong> = 659E F8BA 0439 16EE DE89 1170 289B D1E4 16</li>\n",
    "</ul>\n",
    "\n",
    "<h3>Punto base G</h3>\n",
    "<p>\n",
    "    El punto base <strong>G</strong> en forma comprimida es:\n",
    "</p>\n",
    "<ul>\n",
    "    <li><strong>G</strong> = 04 0948 7239 995A 5EE7 6B55 F9C2 F098</li>\n",
    "</ul>\n",
    "\n",
    "<h3>Orden y cofactor</h3>\n",
    "<p>\n",
    "    Finalmente, el orden <strong>n</strong> de <strong>G</strong> y el cofactor son:\n",
    "</p>\n",
    "\n",
    "<ul>\n",
    "    <li><strong>n</strong> = DB7C 2ABF 62E3 5E76 28DF AC65 61C5</li>\n",
    "    <li><strong>h</strong> = 01</li>\n",
    "</ul>\n",
    "\n",
    "<hr>\n",
    "<p>\n",
    "    <em>Información basada en el documento SEC 2: Recommended Elliptic Curve Domain Parameters</em>\n",
    "</p>"
   ]
  },
  {
   "cell_type": "markdown",
   "metadata": {},
   "source": [
    "<h2>secp128r1</h2>\n",
    "<p>\n",
    "    <strong>secp128r1</strong>, también conocida como <em>prime192v1</em>, es una curva elíptica recomendada por el documento normativo \n",
    "    <em>Standards for Efficient Cryptography (SEC)</em> (Certicom Research, \n",
    "    <a href=\"http://www.secg.org/collateral/sec2_final.pdf\">http://www.secg.org/collateral/sec2_final.pdf</a>).\n",
    "    Esta curva es popular en aplicaciones criptográficas debido a su tamaño intermedio y a su seguridad.\n",
    "</p>\n",
    "\n",
    "<p>De acuerdo con la especificación:</p>\n",
    "\n",
    "<h3>Parámetros del dominio de las curvas elípticas</h3>\n",
    "<p>\n",
    "    Los parámetros del dominio de las curvas elípticas sobre <em>F<sub>p</sub></em> asociados con la curva secp128r1 vienen especificados por el sexteto \n",
    "    <em>T = (p, a, b, G, n, h)</em>, en donde el campo finito <em>F<sub>p</sub></em> está definido por:\n",
    "</p>\n",
    "\n",
    "<ul>\n",
    "    <li><strong>p</strong> = FFFFFFFF FFFFFFFF FFFFFFFF FFFFFFFF FFFFFFFF FFFFFFFF FFFFFFFF FFFFFFFF</li>\n",
    "    <li>= 2<sup>128</sup> - 2<sup>32</sup> - 2<sup>16</sup> - 2<sup>8</sup> - 1</li>\n",
    "</ul>\n",
    "\n",
    "<h3>Curva E</h3>\n",
    "<p>\n",
    "    La curva <em>E</em>: <em>y<sup>2</sup> = x<sup>3</sup> + ax + b</em> sobre <em>F<sub>p</sub></em> está definida por:\n",
    "</p>\n",
    "\n",
    "<ul>\n",
    "    <li><strong>a</strong> = FFFFFFFF FFFFFFFF FFFFFFFF FFFFFFFF FFFFFFFF FFFFFFFF FFFFFFFF FFFFFFFC</li>\n",
    "    <li><strong>b</strong> = 1C97 BEFC 9B1E 8E1E 1C9A 1F84 7E43 4FE1</li>\n",
    "</ul>\n",
    "\n",
    "<h3>Punto base G</h3>\n",
    "<p>\n",
    "    El punto base <strong>G</strong> en forma comprimida es:\n",
    "</p>\n",
    "<ul>\n",
    "    <li><strong>G</strong> = 04 6B 17 98 4D 16 9F 9D 38 6D 23 4B 9F 0A 51 7B 29 56 5B 30</li>\n",
    "</ul>\n",
    "\n",
    "<h3>Orden y cofactor</h3>\n",
    "<p>\n",
    "    Finalmente, el orden <strong>n</strong> de <strong>G</strong> y el cofactor son:\n",
    "</p>\n",
    "\n",
    "<ul>\n",
    "    <li><strong>n</strong> = FFFFFFFF FFFFFFFF FFFFFFFF FFFFFFFF 00000000 00000000 00000000 00000001</li>\n",
    "    <li><strong>h</strong> = 01</li>\n",
    "</ul>\n",
    "\n",
    "<hr>\n",
    "<p>\n",
    "    <em>Información basada en el documento SEC 2: Recommended Elliptic Curve Domain Parameters</em>\n",
    "</p>"
   ]
  },
  {
   "cell_type": "markdown",
   "metadata": {},
   "source": [
    "<h2>secp160r1</h2>\n",
    "<p>\n",
    "    <strong>secp160r1</strong>, también conocida como <em>prime160v1</em>, es una curva elíptica recomendada por el documento normativo \n",
    "    <em>Standards for Efficient Cryptography (SEC)</em> (Certicom Research, \n",
    "    <a href=\"http://www.secg.org/collateral/sec2_final.pdf\">http://www.secg.org/collateral/sec2_final.pdf</a>).\n",
    "    Es una de las curvas más comunes utilizadas en aplicaciones criptográficas debido a su equilibrio entre seguridad y rendimiento.\n",
    "</p>\n",
    "\n",
    "<p>De acuerdo con la especificación:</p>\n",
    "\n",
    "<h3>Parámetros del dominio de las curvas elípticas</h3>\n",
    "<p>\n",
    "    Los parámetros del dominio de las curvas elípticas sobre <em>F<sub>p</sub></em> asociados con la curva secp160r1 vienen especificados por el sexteto \n",
    "    <em>T = (p, a, b, G, n, h)</em>, en donde el campo finito <em>F<sub>p</sub></em> está definido por:\n",
    "</p>\n",
    "\n",
    "<ul>\n",
    "    <li><strong>p</strong> = FFFFFFFF FFFFFFFF FFFFFFFF FFFFFFFF FFFFFFFF</li>\n",
    "    <li>= 2<sup>160</sup> - 2<sup>32</sup> - 2<sup>8</sup> - 2<sup>7</sup> - 2<sup>6</sup> - 2<sup>4</sup> - 2<sup>3</sup> - 2<sup>2</sup> - 2<sup>1</sup> - 1</li>\n",
    "</ul>\n",
    "\n",
    "<h3>Curva E</h3>\n",
    "<p>\n",
    "    La curva <em>E</em>: <em>y<sup>2</sup> = x<sup>3</sup> + ax + b</em> sobre <em>F<sub>p</sub></em> está definida por:\n",
    "</p>\n",
    "\n",
    "<ul>\n",
    "    <li><strong>a</strong> = FFFFFFFF FFFFFFFF FFFFFFFF FFFFFFFF FFFFFFFC</li>\n",
    "    <li><strong>b</strong> = 1C97 BEFC 9B1E 8E1E 1C9A 1F84 7E43 4FE1</li>\n",
    "</ul>\n",
    "\n",
    "<h3>Punto base G</h3>\n",
    "<p>\n",
    "    El punto base <strong>G</strong> en forma comprimida es:\n",
    "</p>\n",
    "<ul>\n",
    "    <li><strong>G</strong> = 04 6B 17 98 4D 16 9F 9D 38 6D 23 4B 9F 0A 51 7B 29 56 5B 30</li>\n",
    "</ul>\n",
    "\n",
    "<h3>Orden y cofactor</h3>\n",
    "<p>\n",
    "    Finalmente, el orden <strong>n</strong> de <strong>G</strong> y el cofactor son:\n",
    "</p>\n",
    "\n",
    "<ul>\n",
    "    <li><strong>n</strong> = FFFFFFFF FFFFFFFF FFFFFFFF FFFFFFFF 00000000 00000000 00000000 00000001</li>\n",
    "    <li><strong>h</strong> = 01</li>\n",
    "</ul>\n",
    "\n",
    "<hr>\n",
    "<p>\n",
    "    <em>Información basada en el documento SEC 2: Recommended Elliptic Curve Domain Parameters</em>\n",
    "</p>"
   ]
  },
  {
   "cell_type": "markdown",
   "metadata": {},
   "source": [
    "<h1>Generación de las curvas<h1/>"
   ]
  },
  {
   "cell_type": "code",
   "execution_count": 4,
   "metadata": {},
   "outputs": [
    {
     "name": "stdout",
     "output_type": "stream",
     "text": [
      "secp256k1:\n",
      "Private Key: 08d6c99ab24bbd80b23e1413188170a5368ee0674fdfa0b4cad2a86408bc7367\n",
      "Public Key: 56c8a07045a8a4993caa3f12e7376e44d74041671cd14655a256c14e542af3fa9514d07bb8ae552a15581bc881f6a804aefb59ca8c95d7fad7bdd07ee24b5746\n"
     ]
    }
   ],
   "source": [
    "# Generación claves para la curva secp256k1\n",
    "secp256k1_private_k = ecdsa.SigningKey.generate(curve=secp256k1)\n",
    "secp256k1_public_k = secp256k1_private_k.get_verifying_key()\n",
    "\n",
    "print(\"secp256k1:\")\n",
    "print(f\"Private Key: {secp256k1_private_k.to_string().hex()}\")\n",
    "print(f\"Public Key: {secp256k1_public_k.to_string().hex()}\")"
   ]
  },
  {
   "cell_type": "code",
   "execution_count": 5,
   "metadata": {},
   "outputs": [
    {
     "name": "stdout",
     "output_type": "stream",
     "text": [
      "secp112r1:\n",
      "Private Key: 56400143021e80958432b4238e6a\n",
      "Public Key: 2dad09a1adfde3320411832eecc20febfdcb5b012e6991413c0e1c8b\n"
     ]
    }
   ],
   "source": [
    "# Generación claves para la curva secp112r1\n",
    "secp112r1 = ecdsa.SECP112r1\n",
    "secp112r1_private_k = ecdsa.SigningKey.generate(curve=secp112r1)\n",
    "secp112r1_public_k = secp112r1_private_k.get_verifying_key()\n",
    "\n",
    "print(\"secp112r1:\")\n",
    "print(f\"Private Key: {secp112r1_private_k.to_string().hex()}\")\n",
    "print(f\"Public Key: {secp112r1_public_k.to_string().hex()}\")"
   ]
  },
  {
   "cell_type": "code",
   "execution_count": 6,
   "metadata": {},
   "outputs": [
    {
     "name": "stdout",
     "output_type": "stream",
     "text": [
      "secp112r2:\n",
      "Private Key: 193e91064fe50eb012fa6a6c119b\n",
      "Public Key: cc4848feb659684fb2784b61c90bcfe5a66adefaa60e543d79742e71\n"
     ]
    }
   ],
   "source": [
    "# Generación claves para la curva secp112r2\n",
    "secp112r2 = ecdsa.SECP112r2\n",
    "secp112r2_private_k = ecdsa.SigningKey.generate(curve=secp112r2)\n",
    "secp112r2_public_k = secp112r2_private_k.get_verifying_key()\n",
    "\n",
    "print(\"secp112r2:\")\n",
    "print(f\"Private Key: {secp112r2_private_k.to_string().hex()}\")\n",
    "print(f\"Public Key: {secp112r2_public_k.to_string().hex()}\")"
   ]
  },
  {
   "cell_type": "code",
   "execution_count": 7,
   "metadata": {},
   "outputs": [
    {
     "name": "stdout",
     "output_type": "stream",
     "text": [
      "secp128r1:\n",
      "Private Key: 46c661644292326f6946a2528d234737\n",
      "Public Key: 682e1542c100dd3417e16a65cc5384eefd0ac0688c44636aaaa8533f7a09ed44\n"
     ]
    }
   ],
   "source": [
    "# Generación claves para la curva secp128r1\n",
    "secp128r1 = ecdsa.SECP128r1\n",
    "secp128r1_private_k = ecdsa.SigningKey.generate(curve=secp128r1)\n",
    "secp128r1_public_k = secp128r1_private_k.get_verifying_key()\n",
    "\n",
    "print(\"secp128r1:\")\n",
    "print(f\"Private Key: {secp128r1_private_k.to_string().hex()}\")\n",
    "print(f\"Public Key: {secp128r1_public_k.to_string().hex()}\")"
   ]
  },
  {
   "cell_type": "code",
   "execution_count": 8,
   "metadata": {},
   "outputs": [
    {
     "name": "stdout",
     "output_type": "stream",
     "text": [
      "secp160r1:\n",
      "Private Key: 001f90a3412a4904c75f6f3fece82ed04d7b52b242\n",
      "Public Key: 6b75d63b43997b2c23dd7b8013c879d480f8586c9e280f8e8b422d4c4a074fc9e4f2dd644b461226\n"
     ]
    }
   ],
   "source": [
    "# Generar claves para la curva secp160r1\n",
    "secp160r1 = ecdsa.SECP160r1\n",
    "secp160r1_private_k = ecdsa.SigningKey.generate(curve=secp160r1)\n",
    "secp160r1_public_k = secp160r1_private_k.get_verifying_key()\n",
    "\n",
    "print(\"secp160r1:\")\n",
    "print(f\"Private Key: {secp160r1_private_k.to_string().hex()}\")\n",
    "print(f\"Public Key: {secp160r1_public_k.to_string().hex()}\")"
   ]
  },
  {
   "cell_type": "markdown",
   "metadata": {},
   "source": [
    "<h1>1. bitcoin (BTC)<h1/>\n"
   ]
  },
  {
   "cell_type": "markdown",
   "metadata": {},
   "source": [
    "Convertir la clave pública a un formato comprimido "
   ]
  },
  {
   "cell_type": "code",
   "execution_count": 9,
   "metadata": {},
   "outputs": [],
   "source": [
    "# Función para poder comprimir la clave pública\n",
    "\n",
    "def public_key_to_compressed(public_key):\n",
    "    \"\"\" Convertir clave pública a formato comprimido \"\"\"\n",
    "    if public_key[0] == 0x04:\n",
    "        x = public_key[1:33]\n",
    "        y = public_key[33:]\n",
    "        if y[-1] % 2 == 0:\n",
    "            return bytes([0x02]) + x\n",
    "        else:\n",
    "            return bytes([0x03]) + x\n",
    "    return public_key"
   ]
  },
  {
   "cell_type": "markdown",
   "metadata": {},
   "source": [
    "<head>\n",
    "    <meta charset=\"UTF-8\">\n",
    "    <meta name=\"viewport\" content=\"width=device-width, initial-scale=1.0\">\n",
    "    <title>Compresión de Claves Públicas en Bitcoin</title>\n",
    "    <style>\n",
    "        body {\n",
    "            font-family: Arial, sans-serif;\n",
    "            line-height: 1.6;\n",
    "        }\n",
    "        h1, h2 {\n",
    "            color: #007bff;\n",
    "        }\n",
    "        p {\n",
    "            margin: 0 0 1em;\n",
    "        }\n",
    "    </style>\n",
    "</head>\n",
    "\n",
    "<h1>Compresión de Claves Públicas en Bitcoin</h1>\n",
    "\n",
    "<h2>¿Qué es la compresión de claves públicas?</h2>\n",
    "<p>\n",
    "    La compresión de claves públicas es un proceso en el cual se transforma una clave pública de formato completo a un formato comprimido. En Bitcoin, esta conversión reduce el tamaño de las claves públicas de 65 bytes a 33 bytes, haciendo que las claves sean más eficientes en términos de almacenamiento y transmisión.\n",
    "</p>\n",
    "\n",
    "<h2>¿Por qué es necesario?</h2>\n",
    "<p>\n",
    "    La compresión de claves públicas es crucial para mejorar la eficiencia en el uso de recursos en la red Bitcoin. Al reducir el tamaño de las claves, se disminuye la cantidad de datos que deben ser almacenados y transmitidos. Esto no solo ayuda a reducir las tarifas de transacción, sino que también optimiza el uso del ancho de banda y el almacenamiento en la cadena de bloques. En resumen, la compresión hace las transacciones más económicas y eficientes.\n",
    "</p>\n",
    "\n",
    "<h2>¿Cómo funciona?</h2>\n",
    "<p>\n",
    "    El proceso de compresión consiste en transformar una clave pública completa, que incluye tanto las coordenadas <code>x</code> como <code>y</code>, en una forma más compacta que incluye únicamente la coordenada <code>x</code> junto con un byte que indica la paridad de <code>y</code>. Esto permite reconstruir la coordenada <code>y</code> si es necesario, manteniendo así la integridad de la clave pública.\n",
    "</p>\n",
    "\n",
    "<h2>Un poco de información</h2>\n",
    "<p>\n",
    "    La implementación de la compresión de claves públicas fue parte de las mejoras en el protocolo de Bitcoin para hacer la blockchain más eficiente. Este método de compresión se ha convertido en una práctica estándar dentro del criptosistema y no había un formato comprimido antes de su adopción. La transición desde el formato completo de 65 bytes a uno comprimido de 33 bytes fue una evolución natural para mejorar el rendimiento y reducir los costos asociados con las transacciones en la red.\n",
    "</p>\n",
    "<p>\n",
    "    <em>Información basada en estándares criptográficos y especificaciones de Bitcoin.</em>\n",
    "</p>"
   ]
  },
  {
   "cell_type": "code",
   "execution_count": 10,
   "metadata": {},
   "outputs": [
    {
     "data": {
      "text/plain": [
       "b'V\\xc8\\xa0pE\\xa8\\xa4\\x99<\\xaa?\\x12\\xe77nD\\xd7@Ag\\x1c\\xd1FU\\xa2V\\xc1NT*\\xf3\\xfa\\x95\\x14\\xd0{\\xb8\\xaeU*\\x15X\\x1b\\xc8\\x81\\xf6\\xa8\\x04\\xae\\xfbY\\xca\\x8c\\x95\\xd7\\xfa\\xd7\\xbd\\xd0~\\xe2KWF'"
      ]
     },
     "execution_count": 10,
     "metadata": {},
     "output_type": "execute_result"
    }
   ],
   "source": [
    "# Conversión de clave comprimida secp256k1\n",
    "compressed_secp256k1 = public_key_to_compressed(secp256k1_public_k.to_string())\n",
    "compressed_secp256k1"
   ]
  },
  {
   "cell_type": "code",
   "execution_count": 11,
   "metadata": {},
   "outputs": [
    {
     "data": {
      "text/plain": [
       "b'-\\xad\\t\\xa1\\xad\\xfd\\xe32\\x04\\x11\\x83.\\xec\\xc2\\x0f\\xeb\\xfd\\xcb[\\x01.i\\x91A<\\x0e\\x1c\\x8b'"
      ]
     },
     "execution_count": 11,
     "metadata": {},
     "output_type": "execute_result"
    }
   ],
   "source": [
    "# Conversión de clave comprimida secp112r1\n",
    "compressed_secp112r1 = public_key_to_compressed(secp112r1_public_k.to_string())\n",
    "compressed_secp112r1"
   ]
  },
  {
   "cell_type": "code",
   "execution_count": 12,
   "metadata": {},
   "outputs": [
    {
     "data": {
      "text/plain": [
       "b'\\xccHH\\xfe\\xb6YhO\\xb2xKa\\xc9\\x0b\\xcf\\xe5\\xa6j\\xde\\xfa\\xa6\\x0eT=yt.q'"
      ]
     },
     "execution_count": 12,
     "metadata": {},
     "output_type": "execute_result"
    }
   ],
   "source": [
    "# Conversión de clave comprimida secp112r2\n",
    "compressed_secp112r2 = public_key_to_compressed(secp112r2_public_k.to_string())\n",
    "compressed_secp112r2"
   ]
  },
  {
   "cell_type": "code",
   "execution_count": 13,
   "metadata": {},
   "outputs": [
    {
     "data": {
      "text/plain": [
       "b'h.\\x15B\\xc1\\x00\\xdd4\\x17\\xe1je\\xccS\\x84\\xee\\xfd\\n\\xc0h\\x8cDcj\\xaa\\xa8S?z\\t\\xedD'"
      ]
     },
     "execution_count": 13,
     "metadata": {},
     "output_type": "execute_result"
    }
   ],
   "source": [
    "# Conversión de clave comprimida secp128r1\n",
    "compressed_secp128r1 = public_key_to_compressed(secp128r1_public_k.to_string())\n",
    "compressed_secp128r1"
   ]
  },
  {
   "cell_type": "code",
   "execution_count": 14,
   "metadata": {},
   "outputs": [
    {
     "data": {
      "text/plain": [
       "b'ku\\xd6;C\\x99{,#\\xdd{\\x80\\x13\\xc8y\\xd4\\x80\\xf8Xl\\x9e(\\x0f\\x8e\\x8bB-LJ\\x07O\\xc9\\xe4\\xf2\\xdddKF\\x12&'"
      ]
     },
     "execution_count": 14,
     "metadata": {},
     "output_type": "execute_result"
    }
   ],
   "source": [
    "# Conversión de clave comprimida secp160r1\n",
    "compressed_secp160r1 = public_key_to_compressed(secp160r1_public_k.to_string())\n",
    "compressed_secp160r1"
   ]
  },
  {
   "cell_type": "markdown",
   "metadata": {},
   "source": [
    "Crear el hash de la clave pública"
   ]
  },
  {
   "cell_type": "code",
   "execution_count": 15,
   "metadata": {},
   "outputs": [],
   "source": [
    "def public_key_to_address(public_key):\n",
    "    sha256 = hashlib.sha256(public_key).digest()\n",
    "    ripemd160 = hashlib.new('ripemd160', sha256).digest()\n",
    "    prefixed = b'\\x00' + ripemd160\n",
    "    checksum = hashlib.sha256(hashlib.sha256(prefixed).digest()).digest()[:4]\n",
    "    address = prefixed + checksum\n",
    "    return base58.b58encode(address).decode()"
   ]
  },
  {
   "cell_type": "markdown",
   "metadata": {},
   "source": [
    "<head>\n",
    "    <meta charset=\"UTF-8\">\n",
    "    <meta name=\"viewport\" content=\"width=device-width, initial-scale=1.0\">\n",
    "    <title>Creación del Hash de la Clave Pública en Bitcoin</title>\n",
    "    <style>\n",
    "        body {\n",
    "            font-family: Arial, sans-serif;\n",
    "            line-height: 1.6;\n",
    "        }\n",
    "        h1, h2 {\n",
    "            color: #007bff;\n",
    "        }\n",
    "        p {\n",
    "            margin: 0 0 1em;\n",
    "        }\n",
    "    </style>\n",
    "</head>\n",
    "\n",
    "<h1>Creación del Hash de la Clave Pública en Bitcoin</h1>\n",
    "\n",
    "<h2>Proceso de creación del hash de la clave pública</h2>\n",
    "<p>\n",
    "    La creación del hash de la clave pública es un proceso fundamental en la generación de una dirección Bitcoin. Este proceso convierte una clave pública en una dirección compacta y manejable que se utiliza para recibir bitcoins. El hashing asegura que la dirección sea de longitud fija, lo que facilita su manejo y almacenamiento, mientras que el uso de un prefijo y un checksum ayuda a garantizar la validez y minimizar errores al ingresar la dirección.\n",
    "</p>\n",
    "\n",
    "<h2>Importancia de la creación del hash</h2>\n",
    "<p>\n",
    "    La creación del hash de la clave pública es necesaria para transformar la clave pública en una forma más compacta y práctica. El hash reduce el tamaño de la clave pública, lo que simplifica el almacenamiento y la transmisión de datos. Además, el proceso de hash asegura la integridad y validez de las direcciones Bitcoin, ayudando a prevenir errores y fraudes en la red.\n",
    "</p>\n",
    "\n",
    "<h2>Funcionamiento del proceso de hashing</h2>\n",
    "<p>\n",
    "    El proceso de hashing de la clave pública en Bitcoin se realiza en varios pasos:\n",
    "    <ul>\n",
    "        <li><strong>SHA-256:</strong> Primero, se aplica el algoritmo de hash SHA-256 a la clave pública comprimida.</li>\n",
    "        <li><strong>RIPEMD-160:</strong> Luego, se aplica el algoritmo de hash RIPEMD-160 al resultado de SHA-256, produciendo un hash más corto.</li>\n",
    "        <li><strong>Prefijo y checksum:</strong> Se añade un prefijo (0x00 para direcciones estándar) al hash RIPEMD-160 y se calcula un checksum para verificar la validez de la dirección. El checksum se obtiene mediante un hash doble SHA-256 del prefijo más el hash RIPEMD-160, tomando los primeros 4 bytes del resultado.</li>\n",
    "        <li><strong>Base58:</strong> Finalmente, el resultado se codifica en Base58, convirtiendo los datos en una cadena alfanumérica más amigable para los usuarios.</li>\n",
    "    </ul>\n",
    "</p>\n",
    "\n",
    "<h2>Desarrollo y versiones anteriores</h2>\n",
    "<p>\n",
    "    Este proceso de creación del hash de la clave pública fue establecido por el protocolo Bitcoin original desarrollado por Satoshi Nakamoto. Ha sido una parte integral del sistema desde su creación, con la metodología de hashing utilizando SHA-256 y RIPEMD-160 como un estándar desde el inicio. Las versiones anteriores de Bitcoin también utilizaban procesos similares, pero la especificación actual ha sido afinada para mejorar la seguridad y eficiencia en la generación de direcciones.\n",
    "</p>\n",
    "\n",
    "<p>\n",
    "    <em>Información basada en estándares criptográficos y especificaciones de Bitcoin.</em>\n",
    "</p>"
   ]
  },
  {
   "cell_type": "code",
   "execution_count": 16,
   "metadata": {},
   "outputs": [
    {
     "data": {
      "text/plain": [
       "'14BAx1ny4wm6vgB2VEQbd6szCptCtft4u4'"
      ]
     },
     "execution_count": 16,
     "metadata": {},
     "output_type": "execute_result"
    }
   ],
   "source": [
    "bitcoin_address_secp256k1 = public_key_to_address(compressed_secp256k1)\n",
    "bitcoin_address_secp256k1"
   ]
  },
  {
   "cell_type": "code",
   "execution_count": 17,
   "metadata": {},
   "outputs": [
    {
     "data": {
      "text/plain": [
       "'17wfH1jyNGLp4YVCGqPxzQaM3u1RoNGrNr'"
      ]
     },
     "execution_count": 17,
     "metadata": {},
     "output_type": "execute_result"
    }
   ],
   "source": [
    "bitcoin_address_secp112r1 = public_key_to_address(compressed_secp112r1)\n",
    "bitcoin_address_secp112r1"
   ]
  },
  {
   "cell_type": "code",
   "execution_count": 18,
   "metadata": {},
   "outputs": [
    {
     "data": {
      "text/plain": [
       "'12Pu5pJUQcwp3959ucvSkEU7KXixFexmje'"
      ]
     },
     "execution_count": 18,
     "metadata": {},
     "output_type": "execute_result"
    }
   ],
   "source": [
    "bitcoin_address_secp112r2 = public_key_to_address(compressed_secp112r2)\n",
    "bitcoin_address_secp112r2"
   ]
  },
  {
   "cell_type": "code",
   "execution_count": 19,
   "metadata": {},
   "outputs": [
    {
     "data": {
      "text/plain": [
       "'1NVbRxmabC9BhwciTPciBpT69AjGqn9eX3'"
      ]
     },
     "execution_count": 19,
     "metadata": {},
     "output_type": "execute_result"
    }
   ],
   "source": [
    "bitcoin_address_secp128r1 = public_key_to_address(compressed_secp128r1)\n",
    "bitcoin_address_secp128r1"
   ]
  },
  {
   "cell_type": "code",
   "execution_count": 20,
   "metadata": {},
   "outputs": [
    {
     "data": {
      "text/plain": [
       "'1GKB5LqVJz8kjasqzzmqoStGD7Qh83kmXs'"
      ]
     },
     "execution_count": 20,
     "metadata": {},
     "output_type": "execute_result"
    }
   ],
   "source": [
    "bitcoin_address_secp160r1 = public_key_to_address(compressed_secp160r1)\n",
    "bitcoin_address_secp160r1"
   ]
  },
  {
   "cell_type": "markdown",
   "metadata": {},
   "source": [
    "<h1>2. Ethereum (ETH)<h1/>"
   ]
  },
  {
   "cell_type": "markdown",
   "metadata": {},
   "source": [
    "Convertir la clave pública a 64 bytes (Sin comprimir)"
   ]
  },
  {
   "cell_type": "code",
   "execution_count": 21,
   "metadata": {},
   "outputs": [],
   "source": [
    "def public_key_to_eth_address(public_key):\n",
    "    \"\"\" Convertir clave pública a dirección Ethereum \"\"\"\n",
    "    public_key_bytes = public_key.to_string()  # Convertir la clave pública a bytes\n",
    "\n",
    "    # Asegurarse de que la clave pública tenga al menos 64 bytes\n",
    "    if len(public_key_bytes) < 64:\n",
    "        public_key_bytes = public_key_bytes.ljust(64, b'\\x00')\n",
    "\n",
    "    # Omitir el primer byte si es un indicador (0x04)\n",
    "    if public_key_bytes[0] == 0x04:\n",
    "        public_key_bytes = public_key_bytes[1:]\n",
    "\n",
    "    # Crear la dirección Ethereum\n",
    "    eth_key = keys.PublicKey(public_key_bytes)\n",
    "    address = eth_key.to_address()\n",
    "    return to_checksum_address(address)\n"
   ]
  },
  {
   "cell_type": "markdown",
   "metadata": {},
   "source": [
    "<head>\n",
    "    <meta charset=\"UTF-8\">\n",
    "    <meta name=\"viewport\" content=\"width=device-width, initial-scale=1.0\">\n",
    "    <title>Conversión a 64 Bytes para Ethereum</title>\n",
    "    <style>\n",
    "        body {\n",
    "            font-family: Arial, sans-serif;\n",
    "            line-height: 1.6;\n",
    "        }\n",
    "        h1, h2 {\n",
    "            color: #007bff;\n",
    "        }\n",
    "        p {\n",
    "            margin: 0 0 1em;\n",
    "        }\n",
    "    </style>\n",
    "</head>\n",
    "\n",
    "<h1>Conversión a 64 Bytes para Ethereum</h1>\n",
    "\n",
    "<h2>Importancia de la conversión a 64 Bytes</h2>\n",
    "<p>\n",
    "    En Ethereum, las claves públicas deben estar en un formato de 64 bytes para ser utilizadas correctamente en la creación de direcciones. Las claves públicas generadas por diversas curvas elípticas pueden no cumplir inicialmente con este requisito de longitud. La conversión asegura que cualquier clave pública se ajuste al tamaño estándar esperado, permitiendo así su uso en el sistema Ethereum.\n",
    "</p>\n",
    "\n",
    "<h2>Proceso de conversión</h2>\n",
    "<p>\n",
    "    El proceso de conversión de una clave pública a un formato de 64 bytes incluye varios pasos:\n",
    "    <ul>\n",
    "        <li><strong>Conversión a bytes:</strong> La clave pública se convierte a una representación en bytes.</li>\n",
    "        <li><strong>Ajuste de longitud:</strong> Si la longitud de la clave pública en bytes es menor a 64, se rellena con ceros hasta alcanzar la longitud requerida.</li>\n",
    "        <li><strong>Eliminación del byte indicador:</strong> En el caso de claves públicas que comienzan con el byte 0x04, se omite este byte para cumplir con el formato requerido.</li>\n",
    "        <li><strong>Creación de la dirección Ethereum:</strong> Una vez ajustada la clave, se utiliza para generar la dirección Ethereum a través de la librería correspondiente.</li>\n",
    "    </ul>\n",
    "</p>\n",
    "\n",
    "<h2>Implementación de curvas elípticas no estándar</h2>\n",
    "<p>\n",
    "    Para implementar curvas elípticas que no están estándar en la plataforma Ethereum de manera didáctica, puedes seguir los siguientes pasos:\n",
    "    <ul>\n",
    "        <li><strong>Definir la curva:</strong> Especifica los parámetros de la curva elíptica no estándar, incluyendo el campo finito, los coeficientes de la curva, y el punto base.</li>\n",
    "        <li><strong>Generar la clave pública:</strong> Utiliza la curva definida para generar la clave pública.</li>\n",
    "        <li><strong>Convertir la clave pública:</strong> Asegúrate de que la clave pública generada tenga el formato adecuado para ser convertida a una dirección Ethereum. Esto puede implicar el ajuste a 64 bytes como se describió anteriormente.</li>\n",
    "        <li><strong>Crear una dirección:</strong> Utiliza la clave pública ajustada para generar una dirección Ethereum, asegurándote de que el proceso de hashing y codificación esté correctamente implementado.</li>\n",
    "    </ul>\n",
    "    Aunque las curvas no estándar no están soportadas de manera nativa en Ethereum, estos pasos te permitirán explorar y entender cómo funcionan las claves y direcciones en un contexto más amplio.\n",
    "</p>\n",
    "\n",
    "<p>\n",
    "    <em>Información basada en prácticas criptográficas y especificaciones del sistema Ethereum.</em>\n",
    "</p>\n"
   ]
  },
  {
   "cell_type": "code",
   "execution_count": 22,
   "metadata": {},
   "outputs": [
    {
     "data": {
      "text/plain": [
       "'0x8F1DA1fb20644B208cb0021cFa58eBfbBdbE17f7'"
      ]
     },
     "execution_count": 22,
     "metadata": {},
     "output_type": "execute_result"
    }
   ],
   "source": [
    "eth_secp256k1 = public_key_to_eth_address(secp256k1_public_k)\n",
    "eth_secp256k1"
   ]
  },
  {
   "cell_type": "code",
   "execution_count": 23,
   "metadata": {},
   "outputs": [
    {
     "data": {
      "text/plain": [
       "'0x4D62DD2DB6BF2E6786762E6C9a20c7046eDb9B84'"
      ]
     },
     "execution_count": 23,
     "metadata": {},
     "output_type": "execute_result"
    }
   ],
   "source": [
    "eth_secp112r1 = public_key_to_eth_address(secp112r1_public_k)\n",
    "eth_secp112r1\n",
    "\n",
    "# En este caso podemos ver como la curva conocida como secp112r1 no se puede utilizar para ethereum \n",
    "# Porque al operarlo para l"
   ]
  },
  {
   "cell_type": "code",
   "execution_count": 24,
   "metadata": {},
   "outputs": [
    {
     "data": {
      "text/plain": [
       "'0x035B02DeF017c71fd9F7f4751CAE474dc2d1429e'"
      ]
     },
     "execution_count": 24,
     "metadata": {},
     "output_type": "execute_result"
    }
   ],
   "source": [
    "eth_secp112r2 = public_key_to_eth_address(secp112r2_public_k)\n",
    "eth_secp112r2"
   ]
  },
  {
   "cell_type": "code",
   "execution_count": 25,
   "metadata": {},
   "outputs": [
    {
     "data": {
      "text/plain": [
       "'0xEa1d670B30F5ad7B882f7919413d63Aa9534f38F'"
      ]
     },
     "execution_count": 25,
     "metadata": {},
     "output_type": "execute_result"
    }
   ],
   "source": [
    "eth_secp128r1 = public_key_to_eth_address(secp128r1_public_k)\n",
    "eth_secp128r1"
   ]
  },
  {
   "cell_type": "code",
   "execution_count": 26,
   "metadata": {},
   "outputs": [
    {
     "data": {
      "text/plain": [
       "'0x197AcFF449F05D7A77293790a300122678b9B4E8'"
      ]
     },
     "execution_count": 26,
     "metadata": {},
     "output_type": "execute_result"
    }
   ],
   "source": [
    "eth_secp160r1 = public_key_to_eth_address(secp160r1_public_k)\n",
    "eth_secp160r1"
   ]
  },
  {
   "cell_type": "markdown",
   "metadata": {},
   "source": [
    "Formatear la dirección"
   ]
  },
  {
   "cell_type": "code",
   "execution_count": 27,
   "metadata": {},
   "outputs": [],
   "source": [
    "def format_eth_address(address):\n",
    "    return f\"0x{address}\""
   ]
  },
  {
   "cell_type": "markdown",
   "metadata": {},
   "source": [
    "<head>\n",
    "    <meta charset=\"UTF-8\">\n",
    "    <meta name=\"viewport\" content=\"width=device-width, initial-scale=1.0\">\n",
    "    <title>Formateo de Direcciones Ethereum</title>\n",
    "    <style>\n",
    "        body {\n",
    "            font-family: Arial, sans-serif;\n",
    "            line-height: 1.6;\n",
    "        }\n",
    "        h1, h2 {\n",
    "            color: #007bff;\n",
    "        }\n",
    "        p {\n",
    "            margin: 0 0 1em;\n",
    "        }\n",
    "    </style>\n",
    "</head>\n",
    "\n",
    "<h1>Formateo de Direcciones Ethereum</h1>\n",
    "\n",
    "<h2>Propósito del Formateo de Direcciones</h2>\n",
    "<p>\n",
    "    El formateo de direcciones Ethereum es el último paso en la conversión de una clave pública a una dirección Ethereum. Este paso asegura que la dirección generada siga el formato estándar utilizado en la blockchain de Ethereum, lo que es crucial para la interoperabilidad y el reconocimiento dentro del ecosistema Ethereum.\n",
    "</p>\n",
    "\n",
    "<h2>¿Cómo se realiza el formateo?</h2>\n",
    "<p>\n",
    "    El formateo consiste en añadir un prefijo estándar \"0x\" a la dirección generada. Este prefijo es un indicador comúnmente aceptado en Ethereum para denotar que lo que sigue es una dirección en formato hexadecimal. El formato \"0x\" ayuda a distinguir direcciones Ethereum de otras representaciones de datos y es fundamental para la correcta interpretación y uso de las direcciones en transacciones y aplicaciones.\n",
    "</p>\n",
    "\n",
    "<h2>Importancia del Formateo</h2>\n",
    "<p>\n",
    "    Formatear la dirección es esencial para garantizar la compatibilidad y consistencia dentro del ecosistema Ethereum. La inclusión del prefijo \"0x\" permite que las direcciones sean fácilmente reconocibles y que sean interpretadas correctamente por las herramientas, plataformas y aplicaciones que interactúan con la blockchain de Ethereum. Sin este formateo, la dirección podría no ser aceptada o podría causar errores en el procesamiento de transacciones.\n",
    "</p>\n",
    "\n",
    "<p>\n",
    "    <em>Información basada en prácticas estándar para la generación y uso de direcciones en Ethereum.</em>\n",
    "</p>\n"
   ]
  },
  {
   "cell_type": "code",
   "execution_count": 28,
   "metadata": {},
   "outputs": [
    {
     "data": {
      "text/plain": [
       "'0x0x8F1DA1fb20644B208cb0021cFa58eBfbBdbE17f7'"
      ]
     },
     "execution_count": 28,
     "metadata": {},
     "output_type": "execute_result"
    }
   ],
   "source": [
    "formatted_ethereum_address_secp256k1 = format_eth_address(eth_secp256k1)\n",
    "formatted_ethereum_address_secp256k1"
   ]
  },
  {
   "cell_type": "code",
   "execution_count": 29,
   "metadata": {},
   "outputs": [
    {
     "data": {
      "text/plain": [
       "'0x0x4D62DD2DB6BF2E6786762E6C9a20c7046eDb9B84'"
      ]
     },
     "execution_count": 29,
     "metadata": {},
     "output_type": "execute_result"
    }
   ],
   "source": [
    "formatted_ethereum_address_secp112r1 = format_eth_address(eth_secp112r1)\n",
    "formatted_ethereum_address_secp112r1"
   ]
  },
  {
   "cell_type": "code",
   "execution_count": 30,
   "metadata": {},
   "outputs": [
    {
     "data": {
      "text/plain": [
       "'0x0x035B02DeF017c71fd9F7f4751CAE474dc2d1429e'"
      ]
     },
     "execution_count": 30,
     "metadata": {},
     "output_type": "execute_result"
    }
   ],
   "source": [
    "formatted_ethereum_address_secp112r2 = format_eth_address(eth_secp112r2)\n",
    "formatted_ethereum_address_secp112r2"
   ]
  },
  {
   "cell_type": "code",
   "execution_count": 31,
   "metadata": {},
   "outputs": [
    {
     "data": {
      "text/plain": [
       "'0x0xEa1d670B30F5ad7B882f7919413d63Aa9534f38F'"
      ]
     },
     "execution_count": 31,
     "metadata": {},
     "output_type": "execute_result"
    }
   ],
   "source": [
    "formatted_ethereum_address_secp128r1 = format_eth_address(eth_secp128r1)\n",
    "formatted_ethereum_address_secp128r1"
   ]
  },
  {
   "cell_type": "code",
   "execution_count": 32,
   "metadata": {},
   "outputs": [
    {
     "data": {
      "text/plain": [
       "'0x0x197AcFF449F05D7A77293790a300122678b9B4E8'"
      ]
     },
     "execution_count": 32,
     "metadata": {},
     "output_type": "execute_result"
    }
   ],
   "source": [
    "formatted_ethereum_address_secp160r1 = format_eth_address(eth_secp160r1)\n",
    "formatted_ethereum_address_secp160r1"
   ]
  },
  {
   "cell_type": "markdown",
   "metadata": {},
   "source": [
    "<h1>Graficación puntos de las curvas en un campo finito<h1/>"
   ]
  },
  {
   "cell_type": "markdown",
   "metadata": {},
   "source": [
    "<h1>Gráfica secp256k1<h1/>"
   ]
  },
  {
   "cell_type": "code",
   "execution_count": 33,
   "metadata": {},
   "outputs": [
    {
     "data": {
      "image/png": "[encoded data removed]",
      "text/plain": [
       "<Figure size 1200x1200 with 1 Axes>"
      ]
     },
     "metadata": {},
     "output_type": "display_data"
    }
   ],
   "source": [
    "import matplotlib.pyplot as plt\n",
    "import ecdsa\n",
    "import numpy as np\n",
    "\n",
    "# Definir la curva secp256k1\n",
    "curve = ecdsa.SECP256k1.curve\n",
    "p = curve.p()\n",
    "a = curve.a()\n",
    "b = curve.b()\n",
    "\n",
    "def is_on_curve(x, y):\n",
    "    \"\"\"Verificar si un punto está en la curva\"\"\"\n",
    "    return (y**2 - (x**3 + a * x + b)) % p == 0\n",
    "\n",
    "def mod_sqrt(a, p):\n",
    "    \"\"\"Encontrar la raíz cuadrada módulo p usando el algoritmo de Tonelli-Shanks\"\"\"\n",
    "    # Caso especial para p ≡ 3 (mod 4)\n",
    "    if p % 4 == 3:\n",
    "        return pow(a, (p + 1) // 4, p)\n",
    "    \n",
    "    # Algoritmo general para raíces cuadradas\n",
    "    s = 0\n",
    "    q = p - 1\n",
    "    while q % 2 == 0:\n",
    "        s += 1\n",
    "        q //= 2\n",
    "    \n",
    "    z = 2\n",
    "    while pow(z, (p - 1) // 2, p) != p - 1:\n",
    "        z += 1\n",
    "    \n",
    "    m = s\n",
    "    c = pow(z, q, p)\n",
    "    t = pow(a, q, p)\n",
    "    r = pow(a, (q + 1) // 2, p)\n",
    "    \n",
    "    while t != 0 and t != 1:\n",
    "        t2i = t\n",
    "        i = 0\n",
    "        for i in range(1, m):\n",
    "            t2i = pow(t2i, 2, p)\n",
    "            if t2i == 1:\n",
    "                break\n",
    "        b = pow(c, 1 << (m - i - 1), p)\n",
    "        m = i\n",
    "        c = pow(b, 2, p)\n",
    "        t = (t * c) % p\n",
    "        r = (r * b) % p\n",
    "    \n",
    "    return r\n",
    "\n",
    "def generate_curve_points(num_points_per_side):\n",
    "    \"\"\"Generar puntos en la curva secp256k1\"\"\"\n",
    "    x_points = []\n",
    "    y_points = []\n",
    "    \n",
    "    # Rango de valores x para la generación de puntos\n",
    "    x_values = np.linspace(0, p, num=num_points_per_side)\n",
    "    \n",
    "    for x in x_values:\n",
    "        # Calcular el valor de y usando la ecuación de la curva\n",
    "        x = int(x)  # Convertir x a entero\n",
    "        y_squared = (x**3 + a * x + b) % p\n",
    "        \n",
    "        # Encontrar la raíz cuadrada módulo p (esto puede implicar dos valores de y)\n",
    "        try:\n",
    "            y = mod_sqrt(y_squared, p)\n",
    "            if is_on_curve(x, y):\n",
    "                x_points.append(x)\n",
    "                y_points.append(y)\n",
    "                \n",
    "            y = p - y\n",
    "            if y != mod_sqrt(y_squared, p) and is_on_curve(x, y):\n",
    "                x_points.append(x)\n",
    "                y_points.append(y)\n",
    "        except ValueError:\n",
    "            continue\n",
    "\n",
    "    return x_points, y_points\n",
    "\n",
    "# Número de puntos a graficar\n",
    "num_points_per_side = 10\n",
    "\n",
    "# Obtener puntos en la curva\n",
    "x_points, y_points = generate_curve_points(num_points_per_side)\n",
    "\n",
    "# Configurar la gráfica\n",
    "plt.figure(figsize=(12, 12))\n",
    "plt.scatter(x_points, y_points, c='blue', marker='o', label='Puntos en la curva secp256k1')\n",
    "plt.title('Puntos en la Curva Elíptica secp256k1')\n",
    "plt.xlabel('x')\n",
    "plt.ylabel('y')\n",
    "plt.grid(True)\n",
    "plt.legend()\n",
    "plt.show()\n"
   ]
  },
  {
   "cell_type": "markdown",
   "metadata": {},
   "source": [
    "<h1>Gráfica secp112r1<h1/>"
   ]
  },
  {
   "cell_type": "code",
   "execution_count": 34,
   "metadata": {},
   "outputs": [],
   "source": [
    "import matplotlib.pyplot as plt\n",
    "import numpy as np\n",
    "\n",
    "# Definir los parámetros de la curva secp112r1\n",
    "p = 0xFFFFFFFFFFFFFFFFFFFFFFFFFFFFFFFDFFFFFFFFFFFFFFFFFFFFFFFC\n",
    "a = 0x1\n",
    "b = 0x0\n",
    "Gx = 0x6D1D6C4D6C8BFE6BEE5F3C50E9B68F38DDAF0B1\n",
    "Gy = 0x22918C6F4F1EED9CE2E2D90A7BCE6B00B5A0C1B\n",
    "order = 0xDB7C2DCE8E8F3F3B5A8F6F85E4E65B7C0C1D8F2\n",
    "\n",
    "def is_on_curve(x, y):\n",
    "    \"\"\"Verificar si un punto está en la curva\"\"\"\n",
    "    return (y**2 - (x**3 + a * x + b)) % p == 0\n",
    "\n",
    "def mod_sqrt(a, p):\n",
    "    \"\"\"Encontrar la raíz cuadrada módulo p usando el algoritmo de Tonelli-Shanks\"\"\"\n",
    "    if p % 4 == 3:\n",
    "        return pow(a, (p + 1) // 4, p)\n",
    "    \n",
    "    s = 0\n",
    "    q = p - 1\n",
    "    while q % 2 == 0:\n",
    "        s += 1\n",
    "        q //= 2\n",
    "    \n",
    "    z = 2\n",
    "    while pow(z, (p - 1) // 2, p) != p - 1:\n",
    "        z += 1\n",
    "    \n",
    "    m = s\n",
    "    c = pow(z, q, p)\n",
    "    t = pow(a, q, p)\n",
    "    r = pow(a, (q + 1) // 2, p)\n",
    "    \n",
    "    while t != 0 and t != 1:\n",
    "        t2i = t\n",
    "        i = 0\n",
    "        for i in range(1, m):\n",
    "            t2i = pow(t2i, 2, p)\n",
    "            if t2i == 1:\n",
    "                break\n",
    "        b = pow(c, 1 << (m - i - 1), p)\n",
    "        m = i\n",
    "        c = pow(b, 2, p)\n",
    "        t = (t * c) % p\n",
    "        r = (r * b) % p\n",
    "    \n",
    "    return r\n",
    "\n",
    "def generate_curve_points(num_points_per_side):\n",
    "    \"\"\"Generar puntos en la curva secp112r1\"\"\"\n",
    "    x_points = []\n",
    "    y_points = []\n",
    "    \n",
    "    # Rango de valores x para la generación de puntos\n",
    "    x_values = np.linspace(0, p, num=num_points_per_side)\n",
    "    \n",
    "    for x in x_values:\n",
    "        x = int(x)  # Convertir x a entero\n",
    "        y_squared = (x**3 + a * x + b) % p\n",
    "        \n",
    "        try:\n",
    "            y = mod_sqrt(y_squared, p)\n",
    "            if is_on_curve(x, y):\n",
    "                x_points.append(x)\n",
    "                y_points.append(y)\n",
    "                \n",
    "            y = p - y\n",
    "            if y != mod_sqrt(y_squared, p) and is_on_curve(x, y):\n",
    "                x_points.append(x)\n",
    "                y_points.append(y)\n",
    "        except ValueError:\n",
    "            continue\n",
    "\n",
    "    return x_points, y_points\n",
    "\n",
    "# Número de puntos a graficar\n",
    "num_points_per_side = 5\n",
    "\n",
    "# Obtener puntos en la curva\n",
    "x_points, y_points = generate_curve_points(num_points_per_side)\n",
    "\n",
    "# Configurar la gráfica\n",
    "plt.figure(figsize=(12, 12))\n",
    "plt.scatter(x_points, y_points, c='blue', marker='o', label='Puntos en la curva secp112r1')\n",
    "plt.title('Puntos en la Curva Elíptica secp112r1')\n",
    "plt.xlabel('x')\n",
    "plt.ylabel('y')\n",
    "plt.grid(True)\n",
    "plt.legend()\n",
    "plt.show()"
   ]
  },
  {
   "cell_type": "markdown",
   "metadata": {},
   "source": [
    "<h1>Gráfica secp112r2<h1/>"
   ]
  },
  {
   "cell_type": "code",
   "execution_count": 9,
   "metadata": {},
   "outputs": [],
   "source": [
    "import matplotlib.pyplot as plt\n",
    "import numpy as np\n",
    "\n",
    "# Parámetros de la curva secp112r2\n",
    "p = 0xDB7C2DCE8E8F3A0E1C8D2ECF5B0A0E6E0C5C5C3\n",
    "a = 0x6127C24C9FBE0EBB4A6D10D4B82D4D1F0E6D4D1\n",
    "b = 0x51DE8D1A5EB4F8A14C9A1B4D4F3B2BCE6D87A7C\n",
    "\n",
    "def is_on_curve(x, y):\n",
    "    \"\"\"Verificar si un punto está en la curva\"\"\"\n",
    "    return (y**2 - (x**3 + a * x + b)) % p == 0\n",
    "\n",
    "def mod_sqrt(a, p):\n",
    "    \"\"\"Encontrar la raíz cuadrada módulo p usando el algoritmo de Tonelli-Shanks\"\"\"\n",
    "    if p % 4 == 3:\n",
    "        return pow(a, (p + 1) // 4, p)\n",
    "    \n",
    "    s = 0\n",
    "    q = p - 1\n",
    "    while q % 2 == 0:\n",
    "        s += 1\n",
    "        q //= 2\n",
    "    \n",
    "    z = 2\n",
    "    while pow(z, (p - 1) // 2, p) != p - 1:\n",
    "        z += 1\n",
    "    \n",
    "    m = s\n",
    "    c = pow(z, q, p)\n",
    "    t = pow(a, q, p)\n",
    "    r = pow(a, (q + 1) // 2, p)\n",
    "    \n",
    "    while t != 0 and t != 1:\n",
    "        t2i = t\n",
    "        i = 0\n",
    "        for i in range(1, m):\n",
    "            t2i = pow(t2i, 2, p)\n",
    "            if t2i == 1:\n",
    "                break\n",
    "        b = pow(c, 1 << (m - i - 1), p)\n",
    "        m = i\n",
    "        c = pow(b, 2, p)\n",
    "        t = (t * c) % p\n",
    "        r = (r * b) % p\n",
    "    \n",
    "    return r\n",
    "\n",
    "def generate_curve_points():\n",
    "    \"\"\"Generar puntos en la curva secp112r2 sin limitar el rango de x\"\"\"\n",
    "    x_points = []\n",
    "    y_points = []\n",
    "    \n",
    "    # Probar un rango más amplio para x\n",
    "    for x in range(0, p):\n",
    "        y_squared = (x**3 + a * x + b) % p\n",
    "        \n",
    "        try:\n",
    "            y = mod_sqrt(y_squared, p)\n",
    "            if is_on_curve(x, y):\n",
    "                x_points.append(x)\n",
    "                y_points.append(y)\n",
    "                \n",
    "            y = p - y\n",
    "            if y != mod_sqrt(y_squared, p) and is_on_curve(x, y):\n",
    "                x_points.append(x)\n",
    "                y_points.append(y)\n",
    "        except ValueError:\n",
    "            continue\n",
    "    \n",
    "    return x_points, y_points\n",
    "\n",
    "def closest_points(x_points, y_points, num_points=10):\n",
    "    \"\"\"Encontrar los puntos más cercanos al eje y\"\"\"\n",
    "    # Crear una lista de puntos con sus distancias al eje y\n",
    "    distances = [(x, y, abs(y)) for x, y in zip(x_points, y_points)]\n",
    "    # Ordenar por la distancia al eje y\n",
    "    sorted_points = sorted(distances, key=lambda p: p[2])\n",
    "    # Seleccionar los puntos más cercanos\n",
    "    closest_points = sorted_points[:num_points]\n",
    "    \n",
    "    x_closest, y_closest = zip(*[(p[0], p[1]) for p in closest_points])\n",
    "    return x_closest, y_closest\n",
    "\n",
    "# Generar puntos en la curva\n",
    "x_points, y_points = generate_curve_points()\n",
    "\n",
    "# Obtener los 10 puntos más cercanos al eje y\n",
    "x_closest, y_closest = closest_points(x_points, y_points, num_points=10)\n",
    "\n",
    "# Configurar la gráfica\n",
    "plt.figure(figsize=(14, 10))\n",
    "plt.scatter(x_closest, y_closest, c='blue', marker='o', s=10)\n",
    "plt.title('10 Puntos Más Cercanos al Eje Y en la Curva Elíptica secp112r2')\n",
    "plt.xlabel('x')\n",
    "plt.ylabel('y')\n",
    "plt.grid(True)\n",
    "plt.show()"
   ]
  },
  {
   "cell_type": "markdown",
   "metadata": {},
   "source": [
    "<h1>Gráfica secp128r1<h1/>"
   ]
  }
 ],
 "metadata": {
  "kernelspec": {
   "display_name": "Python 3",
   "language": "python",
   "name": "python3"
  },
  "language_info": {
   "codemirror_mode": {
    "name": "ipython",
    "version": 3
   },
   "file_extension": ".py",
   "mimetype": "text/x-python",
   "name": "python",
   "nbconvert_exporter": "python",
   "pygments_lexer": "ipython3",
   "version": "3.12.0"
  }
 },
 "nbformat": 4,
 "nbformat_minor": 2
}
